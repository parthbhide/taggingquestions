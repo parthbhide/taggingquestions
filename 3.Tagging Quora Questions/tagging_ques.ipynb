{
 "cells": [
  {
   "cell_type": "code",
   "execution_count": 41,
   "metadata": {},
   "outputs": [],
   "source": [
    "import spacy\n",
    "from scipy import spatial\n",
    "\n",
    "nlp = spacy.load('en_core_web_md')\n",
    "cosine_similarity = lambda vec1,vec2: 1 - spatial.distance.cosine(vec1,vec2)\n",
    "\n",
    "def suggest_tags (text):\n",
    "    \n",
    "    #list of suggested tags\n",
    "    \n",
    "    suggested = []\n",
    "    \n",
    "    doc = nlp(text)\n",
    "    \n",
    "    #get the root word for the token ( lemmatization )\n",
    "    #get rid of stop words and punctuations\n",
    "    suggested = [token.lemma_ for token in doc if token.text not in nlp.Defaults.stop_words and token.text.isalpha()]\n",
    "\n",
    "    #recheck for stop words and common words like 'is','be' etc...\n",
    "    suggested = [word for word in suggested if word not in nlp.Defaults.stop_words and len(word)>3]\n",
    "    if '-PRON-' in suggested :\n",
    "        suggested.remove('-PRON-')\n",
    "        \n",
    "    #get entities form the doc object\n",
    "    #get similar words for entities using vectorization and computing cosine diff\n",
    "    sim_ent = []\n",
    "    \n",
    "    for ent in doc.ents:\n",
    "        suggested.append(ent.text)\n",
    "        vec1 = nlp.vocab[ent.text].vector\n",
    "        if (vec1.sum()):\n",
    "            for word in nlp.vocab:\n",
    "                if word.has_vector:\n",
    "                    if word.is_lower:\n",
    "                        if word.is_alpha:\n",
    "                            cs = cosine_similarity(vec1,word.vector)\n",
    "                            sim_ent.append((word,cs))\n",
    "    sim_ent = sorted(sim_ent,key=lambda item: -item[1])\n",
    "    sim_ent = [t[0].text for t in sim_ent[:3]]\n",
    "    if len(sim_ent)>0:\n",
    "        for word in sim_ent:\n",
    "            suggested.append(word)\n",
    "            \n",
    "    suggested = [word.lower() for word in suggested]\n",
    "    \n",
    "        \n",
    "    #get all the CAPITALIZED words \n",
    "    for token in doc:\n",
    "        if token.text.isupper():\n",
    "            suggested.append(token.text)\n",
    "            \n",
    "    \n",
    "    \n",
    "    return list(set(suggested))"
   ]
  },
  {
   "cell_type": "code",
   "execution_count": 56,
   "metadata": {},
   "outputs": [],
   "source": [
    "tags = suggest_tags(\"Is Narendra Modi really transforming India?\")"
   ]
  },
  {
   "cell_type": "code",
   "execution_count": 57,
   "metadata": {},
   "outputs": [
    {
     "data": {
      "text/plain": [
       "['nagpur',\n",
       " 'chennai',\n",
       " 'modi',\n",
       " 'india',\n",
       " 'narendra',\n",
       " 'pvt',\n",
       " 'transform',\n",
       " 'narendra modi']"
      ]
     },
     "execution_count": 57,
     "metadata": {},
     "output_type": "execute_result"
    }
   ],
   "source": [
    "tags"
   ]
  },
  {
   "cell_type": "code",
   "execution_count": null,
   "metadata": {},
   "outputs": [],
   "source": []
  },
  {
   "cell_type": "code",
   "execution_count": null,
   "metadata": {},
   "outputs": [],
   "source": []
  },
  {
   "cell_type": "code",
   "execution_count": null,
   "metadata": {},
   "outputs": [],
   "source": []
  },
  {
   "cell_type": "code",
   "execution_count": null,
   "metadata": {},
   "outputs": [],
   "source": []
  }
 ],
 "metadata": {
  "kernelspec": {
   "display_name": "Python 3",
   "language": "python",
   "name": "python3"
  },
  "language_info": {
   "codemirror_mode": {
    "name": "ipython",
    "version": 3
   },
   "file_extension": ".py",
   "mimetype": "text/x-python",
   "name": "python",
   "nbconvert_exporter": "python",
   "pygments_lexer": "ipython3",
   "version": "3.7.3"
  }
 },
 "nbformat": 4,
 "nbformat_minor": 2
}
